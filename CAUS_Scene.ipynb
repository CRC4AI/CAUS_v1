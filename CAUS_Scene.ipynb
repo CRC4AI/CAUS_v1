{
 "cells": [
  {
   "cell_type": "markdown",
   "metadata": {},
   "source": [
    "### Setting Envirionment"
   ]
  },
  {
   "cell_type": "code",
   "execution_count": 1,
   "metadata": {},
   "outputs": [],
   "source": [
    "# ! pip install pandas\n",
    "# ! pip install openai\n",
    "# ! pip install langchain"
   ]
  },
  {
   "cell_type": "code",
   "execution_count": 2,
   "metadata": {},
   "outputs": [],
   "source": [
    "import os\n",
    "import json\n",
    "import openai\n",
    "import pandas as pd\n",
    "import csv\n",
    "import random\n",
    "import string\n",
    "import datetime"
   ]
  },
  {
   "cell_type": "code",
   "execution_count": 3,
   "metadata": {},
   "outputs": [],
   "source": [
    "with open('openai_api_key.txt', 'r') as f:\n",
    "    openai.api_key = f.read().strip()\n",
    "os.environ[\"OPENAI_API_KEY\"] = openai.api_key\n",
    "#os.environ.get(\"OPENAI_API_KEY\") # api_key check if needed"
   ]
  },
  {
   "cell_type": "code",
   "execution_count": 4,
   "metadata": {},
   "outputs": [],
   "source": [
    "# Calling prompts\n",
    "with open('sprompt_int.txt', 'r') as f:\n",
    "    sprompt_int = f.read()\n",
    "\n",
    "with open('sprompt_obj.txt', 'r') as f:\n",
    "    sprompt_obj = f.read()\n",
    "\n",
    "with open('sprompt_plt.txt', 'r') as f:\n",
    "    sprompt_plt = f.read()"
   ]
  },
  {
   "cell_type": "code",
   "execution_count": 5,
   "metadata": {},
   "outputs": [],
   "source": [
    "# # Checking the prompts\n",
    "# print(sprompt_int[-30:-1])\n",
    "# print(sprompt_obj[-30:-1])\n",
    "# print(sprompt_plt[-30:-1])"
   ]
  },
  {
   "cell_type": "markdown",
   "metadata": {},
   "source": [
    "### Scene Genaration with Langchain Schema"
   ]
  },
  {
   "cell_type": "code",
   "execution_count": 6,
   "metadata": {},
   "outputs": [],
   "source": [
    "# Calling Lanchain functions\n",
    "from langchain.chat_models import ChatOpenAI\n",
    "from langchain.schema import HumanMessage, SystemMessage, AIMessage"
   ]
  },
  {
   "cell_type": "markdown",
   "metadata": {},
   "source": [
    "- [cls0] OBJECT UNCERTAINTY"
   ]
  },
  {
   "cell_type": "code",
   "execution_count": 7,
   "metadata": {},
   "outputs": [],
   "source": [
    "# OBJECT UNCERTAINTY \n",
    "chat = ChatOpenAI(model=\"gpt-4-0314\", temperature=1)\n",
    "\n",
    "messages = [\n",
    "    SystemMessage(content=f\"'{sprompt_obj}'\"),\n",
    "    HumanMessage(content=\"Write sentences each about a situation with an ordinary object that is out of context.\"),\n",
    "]\n",
    "\n",
    "scene = chat(messages)\n",
    "split_output_lists = [sentence.strip() for sentence in scene.content.split(';')]\n",
    "\n",
    "# Create a dataframe with a scene class\n",
    "df0 = pd.DataFrame({\n",
    "    'scn_sentence': split_output_lists,\n",
    "    'scn_cls': [0] * len(split_output_lists),\n",
    "    'model' : chat.model_name,\n",
    "    'temp' : chat.temperature\n",
    "})"
   ]
  },
  {
   "cell_type": "markdown",
   "metadata": {},
   "source": [
    "- [cls1] INTENTION UNCERTAINTY"
   ]
  },
  {
   "cell_type": "code",
   "execution_count": 8,
   "metadata": {},
   "outputs": [],
   "source": [
    "# INTENTION UNCERTAINTY\n",
    "chat = ChatOpenAI(model=\"gpt-4-0314\", temperature=1)\n",
    "\n",
    "messages = [\n",
    "    SystemMessage(content=f\"'{sprompt_int}'\"),\n",
    "    HumanMessage(content=\"Write short sentences each of which is about a realistic situation that gives a question mark about a character's behavior.\"),\n",
    "    ]\n",
    "\n",
    "scene = chat(messages)\n",
    "split_output_lists = [sentence.strip() for sentence in scene.content.split(';')]\n",
    "\n",
    "# Create a dataframe with a scene class\n",
    "df1 = pd.DataFrame({\n",
    "    'scn_sentence': split_output_lists,\n",
    "    'scn_cls': [1] * len(split_output_lists),\n",
    "    'model' : chat.model_name,\n",
    "    'temp' : chat.temperature\n",
    "})"
   ]
  },
  {
   "cell_type": "markdown",
   "metadata": {},
   "source": [
    "- cls[2] EVENT UNCERTAINTY"
   ]
  },
  {
   "cell_type": "code",
   "execution_count": 9,
   "metadata": {},
   "outputs": [],
   "source": [
    "# EVENT UNCERTAINTY\n",
    "chat = ChatOpenAI(model=\"gpt-4\", temperature=1)\n",
    "\n",
    "messages = [\n",
    "    SystemMessage(content=f\"'{sprompt_plt}'\"),\n",
    "    HumanMessage(content=\"Write sentences that depict a noticeable change in a ordinary scenario involving a person or object.\"),\n",
    "    ]\n",
    "\n",
    "scene = chat(messages)\n",
    "split_output_lists = [sentence.strip() for sentence in scene.content.split(';')]\n",
    "\n",
    "# Create a dataframe with a scene class\n",
    "df2 = pd.DataFrame({\n",
    "    'scn_sentence': split_output_lists,\n",
    "    'scn_cls': [2] * len(split_output_lists),\n",
    "    'model' : chat.model_name,\n",
    "    'temp' : chat.temperature\n",
    "})"
   ]
  },
  {
   "cell_type": "code",
   "execution_count": 10,
   "metadata": {},
   "outputs": [],
   "source": [
    "# Row-wise concatenating dataframes\n",
    "df = pd.concat([df0, df1, df2], axis=0)"
   ]
  },
  {
   "cell_type": "code",
   "execution_count": 11,
   "metadata": {},
   "outputs": [],
   "source": [
    "# Row-wise concatenating dataframes\n",
    "df = pd.concat([df0, df1, df2], axis=0)"
   ]
  },
  {
   "cell_type": "markdown",
   "metadata": {},
   "source": [
    "### Wirte the final DF with random IDs"
   ]
  },
  {
   "cell_type": "code",
   "execution_count": 12,
   "metadata": {},
   "outputs": [],
   "source": [
    "# Generate a unique random 6-digit ID using a mix of 3 numbers and 3 alphabets\n",
    "def generate_random_id():\n",
    "    numbers = ''.join(random.sample(string.digits, 3))  # picking 3 numbers\n",
    "    letters = ''.join(random.sample(string.ascii_uppercase, 3))  # picking 3 uppercase alphabets\n",
    "    random_id = ''.join(random.sample(numbers + letters, 6)) # Combining and shuffling the numbers and alphabets\n",
    "    return random_id \n",
    "\n",
    "# Generate a non-overlapping random IDs\n",
    "unique_ids = set()\n",
    "while len(unique_ids) < len(df):\n",
    "    unique_id = generate_random_id()\n",
    "    if unique_id not in unique_ids:\n",
    "        unique_ids.add(unique_id)\n",
    "\n",
    "# add the IDs for each sentence by inserting a new column at the leftmost part of the df\n",
    "df.insert(0, 'scn_id', list(unique_ids))"
   ]
  },
  {
   "cell_type": "code",
   "execution_count": 13,
   "metadata": {},
   "outputs": [],
   "source": [
    "# # Sort in ascending order by 'scn_id' (optional)\n",
    "# df = df.sort_values(by='scn_id')"
   ]
  },
  {
   "cell_type": "markdown",
   "metadata": {},
   "source": [
    "### Saving files to CSV"
   ]
  },
  {
   "cell_type": "code",
   "execution_count": 14,
   "metadata": {},
   "outputs": [
    {
     "name": "stdout",
     "output_type": "stream",
     "text": [
      "231013_143611\n"
     ]
    }
   ],
   "source": [
    "# getting the current time\n",
    "now = datetime.datetime.now()\n",
    "# Convert to YYMMDD_HHMMSS format\n",
    "FileName = now.strftime(\"%y%m%d_%H%M%S\")\n",
    "print(FileName)"
   ]
  },
  {
   "cell_type": "code",
   "execution_count": 15,
   "metadata": {},
   "outputs": [],
   "source": [
    "# Save DataFrame to CSV\n",
    "df.to_csv(f'_output_scene/scene_{FileName}.csv', index=False)"
   ]
  }
 ],
 "metadata": {
  "kernelspec": {
   "display_name": "myvenv",
   "language": "python",
   "name": "python3"
  },
  "language_info": {
   "codemirror_mode": {
    "name": "ipython",
    "version": 3
   },
   "file_extension": ".py",
   "mimetype": "text/x-python",
   "name": "python",
   "nbconvert_exporter": "python",
   "pygments_lexer": "ipython3",
   "version": "3.11.2"
  },
  "orig_nbformat": 4
 },
 "nbformat": 4,
 "nbformat_minor": 2
}

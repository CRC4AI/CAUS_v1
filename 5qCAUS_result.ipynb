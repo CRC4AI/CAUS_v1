{
 "cells": [
  {
   "cell_type": "markdown",
   "metadata": {},
   "source": [
    "## Setting Envirionment"
   ]
  },
  {
   "cell_type": "code",
   "execution_count": 1,
   "metadata": {},
   "outputs": [],
   "source": [
    "# ! pip install pandas\n",
    "# ! pip install openai\n",
    "# ! pip install langchain"
   ]
  },
  {
   "cell_type": "code",
   "execution_count": 2,
   "metadata": {},
   "outputs": [],
   "source": [
    "import os\n",
    "import json\n",
    "import openai\n",
    "import pandas as pd\n",
    "import re\n",
    "import time"
   ]
  },
  {
   "cell_type": "code",
   "execution_count": 3,
   "metadata": {},
   "outputs": [],
   "source": [
    "with open('openai_api_key.txt', 'r') as f:\n",
    "    openai.api_key = f.read().strip()\n",
    "os.environ[\"OPENAI_API_KEY\"] = openai.api_key\n",
    "\n",
    "# os.environ.get(\"OPENAI_API_KEY\") # Requires API key verification"
   ]
  },
  {
   "cell_type": "markdown",
   "metadata": {},
   "source": [
    "## Preparing required files"
   ]
  },
  {
   "cell_type": "code",
   "execution_count": 4,
   "metadata": {},
   "outputs": [
    {
     "name": "stdout",
     "output_type": "stream",
     "text": [
      "511\n"
     ]
    }
   ],
   "source": [
    "# Load the CSV file\n",
    "scn_FileName= \"CAUS\"\n",
    "df = pd.read_csv(f'_output_scene/scene_{scn_FileName}.csv')\n",
    "print(len(df))"
   ]
  },
  {
   "cell_type": "code",
   "execution_count": 5,
   "metadata": {},
   "outputs": [],
   "source": [
    "# Calling prompts\n",
    "with open('rprompt.txt', 'r') as f:\n",
    "    rprompt = f.read()\n",
    "\n",
    "with open('5qqprompt.txt', 'r') as f:\n",
    "    qprompt = f.read()"
   ]
  },
  {
   "cell_type": "markdown",
   "metadata": {},
   "source": [
    "## Acquiring reasoning and queries from scene list"
   ]
  },
  {
   "cell_type": "code",
   "execution_count": 6,
   "metadata": {},
   "outputs": [],
   "source": [
    "from langchain.chat_models import ChatOpenAI\n",
    "from langchain.schema import HumanMessage, SystemMessage, AIMessage\n",
    "\n",
    "chat = ChatOpenAI(model=\"gpt-4-0613\", temperature = 0)"
   ]
  },
  {
   "cell_type": "markdown",
   "metadata": {},
   "source": [
    "### First loop for reasoning and questioning from scene lists"
   ]
  },
  {
   "cell_type": "code",
   "execution_count": 7,
   "metadata": {},
   "outputs": [],
   "source": [
    "# Generating reasoning and query_value from the scene description\n",
    "intermediate_results = []\n",
    "for i, row in df.iterrows():\n",
    "    row_dict = row.to_dict()\n",
    "    SceneDescription = row.iloc[1]\n",
    "    \n",
    "    messages = [SystemMessage(content=f\"{rprompt}\"), HumanMessage(content=f\"{SceneDescription}\")]\n",
    "    reasoning = chat(messages).content\n",
    "\n",
    "    messages = [SystemMessage(content=f\"{qprompt}\"), HumanMessage(content=f\"{SceneDescription}\")]\n",
    "    query = chat(messages)\n",
    "    query_value = [s.strip() for s in query.content.split(';')]\n",
    "\n",
    "    intermediate_results.append({\n",
    "        'row_dict': row_dict,\n",
    "        'reasoning': reasoning,\n",
    "        'query_value': query_value\n",
    "    })\n",
    "\n",
    "time.sleep(1)"
   ]
  },
  {
   "cell_type": "markdown",
   "metadata": {},
   "source": [
    "### Saving intermediate file"
   ]
  },
  {
   "cell_type": "code",
   "execution_count": 9,
   "metadata": {},
   "outputs": [],
   "source": [
    "# Save the intermediate_results to a JSON file\n",
    "with open(f'_output_intermediate/intermediate_{scn_FileName}.json', 'w') as json_file:\n",
    "    json.dump(intermediate_results, json_file)"
   ]
  }
 ],
 "metadata": {
  "kernelspec": {
   "display_name": "myvenv",
   "language": "python",
   "name": "python3"
  },
  "language_info": {
   "codemirror_mode": {
    "name": "ipython",
    "version": 3
   },
   "file_extension": ".py",
   "mimetype": "text/x-python",
   "name": "python",
   "nbconvert_exporter": "python",
   "pygments_lexer": "ipython3",
   "version": "3.11.2"
  },
  "orig_nbformat": 4
 },
 "nbformat": 4,
 "nbformat_minor": 2
}

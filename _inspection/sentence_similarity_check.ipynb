{
 "cells": [
  {
   "cell_type": "markdown",
   "metadata": {},
   "source": [
    "## Requirements"
   ]
  },
  {
   "cell_type": "code",
   "execution_count": null,
   "metadata": {},
   "outputs": [],
   "source": [
    "#! pip install scikit-learn"
   ]
  },
  {
   "cell_type": "code",
   "execution_count": null,
   "metadata": {},
   "outputs": [],
   "source": [
    "import pandas as pd\n",
    "import numpy as np\n",
    "from sklearn.feature_extraction.text import CountVectorizer\n",
    "from sklearn.metrics.pairwise import cosine_similarity\n",
    "#from itertools import combinations"
   ]
  },
  {
   "cell_type": "code",
   "execution_count": null,
   "metadata": {},
   "outputs": [],
   "source": [
    "# Load the CSV files to compare\n",
    "scn_FileName00= \"scene_v1_501_cls0\"\n",
    "scn_FileName01= \"cls0_scene_231027_unfiltered\"\n",
    "#scn_FileName02= \"scene_curated_v0920\"\n",
    "df0 = pd.read_csv(f'../_output_scene/{scn_FileName00}.csv', usecols=[0, 1, 2])\n",
    "df0['df'] = scn_FileName00  # Add a new column to indicate the source\n",
    "df1 = pd.read_csv(f'../_output_scene/{scn_FileName01}.csv', usecols=[0, 1, 2])\n",
    "df1['df'] = scn_FileName01  # Add a new column to indicate the source\n",
    "# df2 = pd.read_csv(f'../_output_scene/{scn_FileName02}.csv')\n",
    "# df2['df'] = scn_FileName02  # Add a new column to indicate the source\n",
    "\n",
    "# concatenating dataframes into df\n",
    "df = pd.concat([df0, df1], axis=0)\n",
    "#df = pd.concat([df0, df1, df2], axis=0)\n",
    "\n",
    "# 유사도 계산에 사용할 열 선택\n",
    "selected_column = 'scn_sentence'\n",
    "data = df[selected_column].values"
   ]
  },
  {
   "cell_type": "markdown",
   "metadata": {},
   "source": [
    "## Similarity check"
   ]
  },
  {
   "cell_type": "code",
   "execution_count": null,
   "metadata": {},
   "outputs": [],
   "source": [
    "# 텍스트 데이터를 벡터로 변환\n",
    "vectorizer = CountVectorizer().fit_transform(data)\n",
    "vectors = vectorizer.toarray()\n",
    "\n",
    "# 코사인 유사도 계산\n",
    "cosine_similarities = cosine_similarity(vectors)\n",
    "\n",
    "# 코사인 유사도가 비슷한 행 추출\n",
    "similar_rows = []\n",
    "threshold = 0.7  # 유사도 임계값 설정\n",
    "\n",
    "for i, row in enumerate(cosine_similarities):\n",
    "    similar_indices = [j for j, similarity in enumerate(row) if i != j and similarity > threshold]\n",
    "    if similar_indices:\n",
    "        similar_indices.append(i)  # 자기 자신도 포함\n",
    "        similar_rows.append(similar_indices)\n",
    "\n",
    "# 중복된 인덱스 제거\n",
    "unique_similar_rows = []\n",
    "for row_indices in similar_rows:\n",
    "    if not any(set(row_indices).issubset(set(unique_indices)) for unique_indices in unique_similar_rows):\n",
    "        unique_similar_rows.append(row_indices)\n",
    "        \n",
    "# 추출된 결과 출력\n",
    "for i, row_indices in enumerate(unique_similar_rows):\n",
    "    if i >= 4:  # 1~4개의 행까지만 출력\n",
    "        break\n",
    "    print(f\"Group {i + 1}:\")\n",
    "    for idx in row_indices:\n",
    "        print(df.iloc[idx])\n",
    "        print(\"-\" * 20)\n",
    "    print(\"=\" * 40)"
   ]
  },
  {
   "cell_type": "markdown",
   "metadata": {},
   "source": [
    "## Saving as csv file"
   ]
  },
  {
   "cell_type": "code",
   "execution_count": null,
   "metadata": {},
   "outputs": [],
   "source": [
    "# Display and save the results\n",
    "output_csv_data = []\n",
    "\n",
    "# Extract and display results\n",
    "for i, row_indices in enumerate(unique_similar_rows):\n",
    "    \n",
    "    # 1~4개의 행까지만 출력\n",
    "    if i < 4:\n",
    "        print(f\"Group {i + 1}:\")\n",
    "        for idx in row_indices:\n",
    "            print(df.iloc[idx])\n",
    "            print(\"-\" * 20)\n",
    "        print(\"=\" * 40)\n",
    "    \n",
    "    group_label = f\"Group {i + 1}\"  # 그룹 레이블 생성\n",
    "    output_csv_data.append([group_label, \"\"])  # 그룹 레이블 추가\n",
    "\n",
    "    for idx in row_indices:\n",
    "        output_csv_data.append([group_label] + df.iloc[idx].tolist())\n",
    "\n",
    "# Create a DataFrame from the results\n",
    "output_df = pd.DataFrame(output_csv_data, columns=[\"Group\", \"scn_id\", \"scn_sentence\", \"scn_cls\", \"file_name\"])  \n",
    "\n",
    "# Save as CSV\n",
    "output_df.to_csv(f'sim_check_{scn_FileName00}_{scn_FileName01}.csv', index=False)\n",
    "#output_df.to_csv(f'sim_check_{scn_FileName00}_{scn_FileName01}_{scn_FileName02}.csv', index=False)\n",
    "\n",
    "print(\"The results have been saved to a CSV file.\")\n"
   ]
  }
 ],
 "metadata": {
  "kernelspec": {
   "display_name": "myvenv",
   "language": "python",
   "name": "python3"
  },
  "language_info": {
   "codemirror_mode": {
    "name": "ipython",
    "version": 3
   },
   "file_extension": ".py",
   "mimetype": "text/x-python",
   "name": "python",
   "nbconvert_exporter": "python",
   "pygments_lexer": "ipython3",
   "version": "3.11.2"
  },
  "orig_nbformat": 4
 },
 "nbformat": 4,
 "nbformat_minor": 2
}
